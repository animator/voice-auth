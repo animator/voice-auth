{
 "cells": [
  {
   "cell_type": "markdown",
   "metadata": {},
   "source": [
    "Voice Authentication Model\n",
    "============\n"
   ]
  },
  {
   "cell_type": "markdown",
   "metadata": {},
   "source": [
    "In this jupyter notebook we will extract features from the voice input (.wav) using MFCC followed by training and evaluation of developed GMM model."
   ]
  },
  {
   "cell_type": "markdown",
   "metadata": {},
   "source": [
    "Data consists of 3 speakers who generate 13 (10 training + 3 testing) wav files for each digit - 1, 2 & 3."
   ]
  },
  {
   "cell_type": "markdown",
   "metadata": {},
   "source": [
    "I) Visualizing Data\n",
    "-----------------"
   ]
  },
  {
   "cell_type": "code",
   "execution_count": 1,
   "metadata": {},
   "outputs": [],
   "source": [
    "%matplotlib inline"
   ]
  },
  {
   "cell_type": "code",
   "execution_count": 2,
   "metadata": {},
   "outputs": [],
   "source": [
    "import matplotlib.pyplot as plt\n",
    "import numpy as np\n",
    "import wave, sys\n",
    "import warnings\n",
    "warnings.filterwarnings(\"ignore\")"
   ]
  },
  {
   "cell_type": "code",
   "execution_count": 5,
   "metadata": {},
   "outputs": [
    {
     "data": {
      "text/plain": [
       "array([-323, -374, -449, ..., -283, -276, -339], dtype=int16)"
      ]
     },
     "execution_count": 5,
     "metadata": {},
     "output_type": "execute_result"
    }
   ],
   "source": [
    "#Visualizing just a simple wav file data\n",
    "dir = \"data/Speaker1_digit_1/wav/\"\n",
    "\n",
    "spf = wave.open(dir + 'Speaker1_digit_1_0.wav','r')\n",
    "\n",
    "#Extract Raw Audio from Wav File\n",
    "signal = spf.readframes(-1)\n",
    "signal = np.fromstring(signal, 'Int16')\n",
    "signal"
   ]
  },
  {
   "cell_type": "code",
   "execution_count": 7,
   "metadata": {},
   "outputs": [
    {
     "data": {
      "text/plain": [
       "1"
      ]
     },
     "execution_count": 7,
     "metadata": {},
     "output_type": "execute_result"
    }
   ],
   "source": [
    "#Checking the number of input channels, current model is only for single channel\n",
    "spf.getnchannels() "
   ]
  },
  {
   "cell_type": "code",
   "execution_count": 8,
   "metadata": {},
   "outputs": [
    {
     "data": {
      "text/plain": [
       "Text(0.5,1,'Signal Wave...')"
      ]
     },
     "execution_count": 8,
     "metadata": {},
     "output_type": "execute_result"
    },
    {
     "data": {
      "image/png": "[encoded data removed]",
      "text/plain": [
       "<matplotlib.figure.Figure at 0x2b9088af470>"
      ]
     },
     "metadata": {},
     "output_type": "display_data"
    }
   ],
   "source": [
    "plt.plot(signal)\n",
    "plt.title('Signal Wave...')"
   ]
  },
  {
   "cell_type": "markdown",
   "metadata": {},
   "source": [
    "II) Feature Extraction & Model Training\n",
    "-----------------------"
   ]
  },
  {
   "cell_type": "code",
   "execution_count": 3,
   "metadata": {},
   "outputs": [],
   "source": [
    "import numpy as np\n",
    "from sklearn import preprocessing\n",
    "import python_speech_features as mfcc"
   ]
  },
  {
   "cell_type": "code",
   "execution_count": 4,
   "metadata": {},
   "outputs": [],
   "source": [
    "#Helper functions to calculate Deltas and Extract Features\n",
    "\n",
    "def calculate_delta(array):\n",
    "    \"\"\"Calculate and returns the delta of given feature vector matrix\"\"\"\n",
    "\n",
    "    rows,cols = array.shape\n",
    "    deltas = np.zeros((rows,20))\n",
    "    N = 2\n",
    "    for i in range(rows):\n",
    "        index = []\n",
    "        j = 1\n",
    "        while j <= N:\n",
    "            if i-j < 0:                 \n",
    "                first = 0             \n",
    "            else:                 \n",
    "                first = i-j             \n",
    "            \n",
    "            if i+j > rows-1:\n",
    "                second = rows-1\n",
    "            else:\n",
    "                second = i+j \n",
    "            \n",
    "            index.append((second,first))\n",
    "            j+=1\n",
    "        deltas[i] = ( array[index[0][0]]-array[index[0][1]] + (2 * (array[index[1][0]]-array[index[1][1]])) ) / 10\n",
    "    return deltas\n",
    "\n",
    "def extract_features(audio,rate):\n",
    "    \"\"\"extract 20 dim mfcc features from an audio, performs CMS and combines \n",
    "    delta to make it 40 dim feature vector\"\"\"    \n",
    "    \n",
    "    mfcc_feat = mfcc.mfcc(audio,rate, 0.025, 0.01,20,appendEnergy = True)    \n",
    "    mfcc_feat = preprocessing.scale(mfcc_feat)\n",
    "    delta = calculate_delta(mfcc_feat)\n",
    "    combined = np.hstack((mfcc_feat,delta)) \n",
    "    return combined"
   ]
  },
  {
   "cell_type": "code",
   "execution_count": 5,
   "metadata": {},
   "outputs": [
    {
     "name": "stdout",
     "output_type": "stream",
     "text": [
      "Speaker1_digit_1\\wav\\Speaker1_digit_1_0.wav\n",
      "Speaker1_digit_1\\wav\\Speaker1_digit_1_1.wav\n",
      "Speaker1_digit_1\\wav\\Speaker1_digit_1_2.wav\n",
      "Speaker1_digit_1\\wav\\Speaker1_digit_1_3.wav\n",
      "Speaker1_digit_1\\wav\\Speaker1_digit_1_4.wav\n",
      "Speaker1_digit_1\\wav\\Speaker1_digit_1_5.wav\n",
      "Speaker1_digit_1\\wav\\Speaker1_digit_1_6.wav\n",
      "Speaker1_digit_1\\wav\\Speaker1_digit_1_7.wav\n",
      "Speaker1_digit_1\\wav\\Speaker1_digit_1_8.wav\n",
      "Speaker1_digit_1\\wav\\Speaker1_digit_1_9.wav\n",
      "+ modeling completed for speaker: Speaker1_digit_1.gmm  with data point =  (519, 40)\n",
      "Speaker1_digit_2\\wav\\Speaker1_digit_2_0.wav\n",
      "Speaker1_digit_2\\wav\\Speaker1_digit_2_1.wav\n",
      "Speaker1_digit_2\\wav\\Speaker1_digit_2_2.wav\n",
      "Speaker1_digit_2\\wav\\Speaker1_digit_2_3.wav\n",
      "Speaker1_digit_2\\wav\\Speaker1_digit_2_4.wav\n",
      "Speaker1_digit_2\\wav\\Speaker1_digit_2_5.wav\n",
      "Speaker1_digit_2\\wav\\Speaker1_digit_2_6.wav\n",
      "Speaker1_digit_2\\wav\\Speaker1_digit_2_7.wav\n",
      "Speaker1_digit_2\\wav\\Speaker1_digit_2_8.wav\n",
      "Speaker1_digit_2\\wav\\Speaker1_digit_2_9.wav\n",
      "+ modeling completed for speaker: Speaker1_digit_2.gmm  with data point =  (481, 40)\n",
      "Speaker1_digit_3\\wav\\Speaker1_digit_3_0.wav\n",
      "Speaker1_digit_3\\wav\\Speaker1_digit_3_1.wav\n",
      "Speaker1_digit_3\\wav\\Speaker1_digit_3_2.wav\n",
      "Speaker1_digit_3\\wav\\Speaker1_digit_3_3.wav\n",
      "Speaker1_digit_3\\wav\\Speaker1_digit_3_4.wav\n",
      "Speaker1_digit_3\\wav\\Speaker1_digit_3_5.wav\n",
      "Speaker1_digit_3\\wav\\Speaker1_digit_3_6.wav\n",
      "Speaker1_digit_3\\wav\\Speaker1_digit_3_7.wav\n",
      "Speaker1_digit_3\\wav\\Speaker1_digit_3_8.wav\n",
      "Speaker1_digit_3\\wav\\Speaker1_digit_3_9.wav\n",
      "+ modeling completed for speaker: Speaker1_digit_3.gmm  with data point =  (468, 40)\n",
      "Speaker2_digit_1\\wav\\Speaker2_digit_1_0.wav\n",
      "Speaker2_digit_1\\wav\\Speaker2_digit_1_1.wav\n",
      "Speaker2_digit_1\\wav\\Speaker2_digit_1_2.wav\n",
      "Speaker2_digit_1\\wav\\Speaker2_digit_1_3.wav\n",
      "Speaker2_digit_1\\wav\\Speaker2_digit_1_4.wav\n",
      "Speaker2_digit_1\\wav\\Speaker2_digit_1_5.wav\n",
      "Speaker2_digit_1\\wav\\Speaker2_digit_1_6.wav\n",
      "Speaker2_digit_1\\wav\\Speaker2_digit_1_7.wav\n",
      "Speaker2_digit_1\\wav\\Speaker2_digit_1_8.wav\n",
      "Speaker2_digit_1\\wav\\Speaker2_digit_1_9.wav\n",
      "+ modeling completed for speaker: Speaker2_digit_1.gmm  with data point =  (585, 40)\n",
      "Speaker2_digit_2\\wav\\Speaker2_digit_2_0.wav\n",
      "Speaker2_digit_2\\wav\\Speaker2_digit_2_1.wav\n",
      "Speaker2_digit_2\\wav\\Speaker2_digit_2_2.wav\n",
      "Speaker2_digit_2\\wav\\Speaker2_digit_2_3.wav\n",
      "Speaker2_digit_2\\wav\\Speaker2_digit_2_4.wav\n",
      "Speaker2_digit_2\\wav\\Speaker2_digit_2_5.wav\n",
      "Speaker2_digit_2\\wav\\Speaker2_digit_2_6.wav\n",
      "Speaker2_digit_2\\wav\\Speaker2_digit_2_7.wav\n",
      "Speaker2_digit_2\\wav\\Speaker2_digit_2_8.wav\n",
      "Speaker2_digit_2\\wav\\Speaker2_digit_2_9.wav\n",
      "+ modeling completed for speaker: Speaker2_digit_2.gmm  with data point =  (569, 40)\n",
      "Speaker2_digit_3\\wav\\Speaker2_digit_3_0.wav\n",
      "Speaker2_digit_3\\wav\\Speaker2_digit_3_1.wav\n",
      "Speaker2_digit_3\\wav\\Speaker2_digit_3_2.wav\n",
      "Speaker2_digit_3\\wav\\Speaker2_digit_3_3.wav\n",
      "Speaker2_digit_3\\wav\\Speaker2_digit_3_4.wav\n",
      "Speaker2_digit_3\\wav\\Speaker2_digit_3_5.wav\n",
      "Speaker2_digit_3\\wav\\Speaker2_digit_3_6.wav\n",
      "Speaker2_digit_3\\wav\\Speaker2_digit_3_7.wav\n",
      "Speaker2_digit_3\\wav\\Speaker2_digit_3_8.wav\n",
      "Speaker2_digit_3\\wav\\Speaker2_digit_3_9.wav\n",
      "+ modeling completed for speaker: Speaker2_digit_3.gmm  with data point =  (652, 40)\n",
      "Speaker3_digit_1\\wav\\Speaker3_digit_1_0.wav\n",
      "Speaker3_digit_1\\wav\\Speaker3_digit_1_1.wav\n",
      "Speaker3_digit_1\\wav\\Speaker3_digit_1_2.wav\n",
      "Speaker3_digit_1\\wav\\Speaker3_digit_1_3.wav\n",
      "Speaker3_digit_1\\wav\\Speaker3_digit_1_4.wav\n",
      "Speaker3_digit_1\\wav\\Speaker3_digit_1_5.wav\n",
      "Speaker3_digit_1\\wav\\Speaker3_digit_1_6.wav\n",
      "Speaker3_digit_1\\wav\\Speaker3_digit_1_7.wav\n",
      "Speaker3_digit_1\\wav\\Speaker3_digit_1_8.wav\n",
      "Speaker3_digit_1\\wav\\Speaker3_digit_1_9.wav\n",
      "+ modeling completed for speaker: Speaker3_digit_1.gmm  with data point =  (227, 40)\n",
      "Speaker3_digit_2\\wav\\Speaker3_digit_2_0.wav\n",
      "Speaker3_digit_2\\wav\\Speaker3_digit_2_1.wav\n",
      "Speaker3_digit_2\\wav\\Speaker3_digit_2_2.wav\n",
      "Speaker3_digit_2\\wav\\Speaker3_digit_2_3.wav\n",
      "Speaker3_digit_2\\wav\\Speaker3_digit_2_4.wav\n",
      "Speaker3_digit_2\\wav\\Speaker3_digit_2_5.wav\n",
      "Speaker3_digit_2\\wav\\Speaker3_digit_2_6.wav\n",
      "Speaker3_digit_2\\wav\\Speaker3_digit_2_7.wav\n",
      "Speaker3_digit_2\\wav\\Speaker3_digit_2_8.wav\n",
      "Speaker3_digit_2\\wav\\Speaker3_digit_2_9.wav\n",
      "+ modeling completed for speaker: Speaker3_digit_2.gmm  with data point =  (263, 40)\n",
      "Speaker3_digit_3\\wav\\Speaker3_digit_3_0.wav\n",
      "Speaker3_digit_3\\wav\\Speaker3_digit_3_1.wav\n",
      "Speaker3_digit_3\\wav\\Speaker3_digit_3_2.wav\n",
      "Speaker3_digit_3\\wav\\Speaker3_digit_3_3.wav\n",
      "Speaker3_digit_3\\wav\\Speaker3_digit_3_4.wav\n",
      "Speaker3_digit_3\\wav\\Speaker3_digit_3_5.wav\n",
      "Speaker3_digit_3\\wav\\Speaker3_digit_3_6.wav\n",
      "Speaker3_digit_3\\wav\\Speaker3_digit_3_7.wav\n",
      "Speaker3_digit_3\\wav\\Speaker3_digit_3_8.wav\n",
      "Speaker3_digit_3\\wav\\Speaker3_digit_3_9.wav\n",
      "+ modeling completed for speaker: Speaker3_digit_3.gmm  with data point =  (240, 40)\n"
     ]
    }
   ],
   "source": [
    "import pickle\n",
    "import numpy as np\n",
    "from scipy.io.wavfile import read\n",
    "from sklearn.mixture import GMM \n",
    "import warnings\n",
    "warnings.filterwarnings(\"ignore\")\n",
    "\n",
    "#path to training data\n",
    "source   = \"data\\\\\"   \n",
    "\n",
    "#path where training speakers will be saved\n",
    "dest = \"models\\\\\"\n",
    "train_file = \"training_list.txt\"        \n",
    "file_paths = open(train_file,'r')\n",
    "\n",
    "count = 1\n",
    "# Extracting features for each digit data provided by speaker \n",
    "features = np.asarray(())\n",
    "for path in file_paths:    \n",
    "    path = path.strip()   \n",
    "    print(path)\n",
    "    \n",
    "    # read the audio\n",
    "    sr,audio = read(source + path)\n",
    "    \n",
    "    # extract 40 dimensional MFCC & delta MFCC features\n",
    "    vector   = extract_features(audio,sr)\n",
    "    \n",
    "    if features.size == 0:\n",
    "        features = vector\n",
    "    else:\n",
    "        features = np.vstack((features, vector))\n",
    "    # when features of training files of each digit for a given speaker are concatenated, model training is done\n",
    "    if count == 10:    \n",
    "        gmm = GMM(n_components = 16, n_iter = 200, covariance_type='diag',n_init = 3)\n",
    "        gmm.fit(features)\n",
    "        \n",
    "        # dumping the trained gaussian model\n",
    "        picklefile = path.split(\"\\\\\")[0]+\".gmm\"\n",
    "        pickle.dump(gmm,open(dest + picklefile,'wb'))\n",
    "        print('+ modeling completed for speaker:',picklefile,\" with data point = \",features.shape)    \n",
    "        features = np.asarray(())\n",
    "        count = 0\n",
    "    count = count + 1"
   ]
  },
  {
   "cell_type": "markdown",
   "metadata": {},
   "source": [
    "III) Model Testing\n",
    "-------------------"
   ]
  },
  {
   "cell_type": "code",
   "execution_count": 14,
   "metadata": {},
   "outputs": [
    {
     "data": {
      "text/plain": [
       "['models\\\\Speaker1_digit_1.gmm',\n",
       " 'models\\\\Speaker1_digit_2.gmm',\n",
       " 'models\\\\Speaker1_digit_3.gmm',\n",
       " 'models\\\\Speaker2_digit_1.gmm',\n",
       " 'models\\\\Speaker2_digit_2.gmm',\n",
       " 'models\\\\Speaker2_digit_3.gmm',\n",
       " 'models\\\\Speaker3_digit_1.gmm',\n",
       " 'models\\\\Speaker3_digit_2.gmm',\n",
       " 'models\\\\Speaker3_digit_3.gmm']"
      ]
     },
     "execution_count": 14,
     "metadata": {},
     "output_type": "execute_result"
    }
   ],
   "source": [
    "import time, os\n",
    "\n",
    "#path to training data\n",
    "source   = \"data\\\\\"   \n",
    "models_dir = \"models\\\\\"\n",
    "test_file = \"testing_list.txt\"        \n",
    "file_paths = open(test_file,'r')\n",
    "\n",
    "gmm_files = [os.path.join(models_dir,fname) for fname in os.listdir(models_dir) if fname.endswith('.gmm')]\n",
    "\n",
    "gmm_files"
   ]
  },
  {
   "cell_type": "code",
   "execution_count": 15,
   "metadata": {},
   "outputs": [
    {
     "data": {
      "text/plain": [
       "[GMM(covariance_type='diag', init_params='wmc', min_covar=0.001,\n",
       "   n_components=16, n_init=3, n_iter=200, params='wmc', random_state=None,\n",
       "   tol=0.001, verbose=0),\n",
       " GMM(covariance_type='diag', init_params='wmc', min_covar=0.001,\n",
       "   n_components=16, n_init=3, n_iter=200, params='wmc', random_state=None,\n",
       "   tol=0.001, verbose=0),\n",
       " GMM(covariance_type='diag', init_params='wmc', min_covar=0.001,\n",
       "   n_components=16, n_init=3, n_iter=200, params='wmc', random_state=None,\n",
       "   tol=0.001, verbose=0),\n",
       " GMM(covariance_type='diag', init_params='wmc', min_covar=0.001,\n",
       "   n_components=16, n_init=3, n_iter=200, params='wmc', random_state=None,\n",
       "   tol=0.001, verbose=0),\n",
       " GMM(covariance_type='diag', init_params='wmc', min_covar=0.001,\n",
       "   n_components=16, n_init=3, n_iter=200, params='wmc', random_state=None,\n",
       "   tol=0.001, verbose=0),\n",
       " GMM(covariance_type='diag', init_params='wmc', min_covar=0.001,\n",
       "   n_components=16, n_init=3, n_iter=200, params='wmc', random_state=None,\n",
       "   tol=0.001, verbose=0),\n",
       " GMM(covariance_type='diag', init_params='wmc', min_covar=0.001,\n",
       "   n_components=16, n_init=3, n_iter=200, params='wmc', random_state=None,\n",
       "   tol=0.001, verbose=0),\n",
       " GMM(covariance_type='diag', init_params='wmc', min_covar=0.001,\n",
       "   n_components=16, n_init=3, n_iter=200, params='wmc', random_state=None,\n",
       "   tol=0.001, verbose=0),\n",
       " GMM(covariance_type='diag', init_params='wmc', min_covar=0.001,\n",
       "   n_components=16, n_init=3, n_iter=200, params='wmc', random_state=None,\n",
       "   tol=0.001, verbose=0)]"
      ]
     },
     "execution_count": 15,
     "metadata": {},
     "output_type": "execute_result"
    }
   ],
   "source": [
    "#Load the Gaussian Models\n",
    "models    = [pickle.load(open(fname,'rb')) for fname in gmm_files]\n",
    "models"
   ]
  },
  {
   "cell_type": "code",
   "execution_count": 16,
   "metadata": {},
   "outputs": [
    {
     "data": {
      "text/plain": [
       "['Speaker1_digit_1',\n",
       " 'Speaker1_digit_2',\n",
       " 'Speaker1_digit_3',\n",
       " 'Speaker2_digit_1',\n",
       " 'Speaker2_digit_2',\n",
       " 'Speaker2_digit_3',\n",
       " 'Speaker3_digit_1',\n",
       " 'Speaker3_digit_2',\n",
       " 'Speaker3_digit_3']"
      ]
     },
     "execution_count": 16,
     "metadata": {},
     "output_type": "execute_result"
    }
   ],
   "source": [
    "speakers_digit   = [fname.split(\"\\\\\")[-1].split(\".gmm\")[0] for fname in gmm_files]\n",
    "speakers_digit"
   ]
  },
  {
   "cell_type": "code",
   "execution_count": 17,
   "metadata": {},
   "outputs": [
    {
     "name": "stdout",
     "output_type": "stream",
     "text": [
      "Speaker1_digit_1\\wav\\Speaker1_digit_1_10.wav\n",
      "\tSpeaker & Digit detected as -  Speaker1_digit_1\n",
      "Speaker1_digit_1\\wav\\Speaker1_digit_1_11.wav\n",
      "\tSpeaker & Digit detected as -  Speaker1_digit_1\n",
      "Speaker1_digit_1\\wav\\Speaker1_digit_1_12.wav\n",
      "\tSpeaker & Digit detected as -  Speaker1_digit_1\n",
      "Speaker1_digit_2\\wav\\Speaker1_digit_2_10.wav\n",
      "\tSpeaker & Digit detected as -  Speaker1_digit_2\n",
      "Speaker1_digit_2\\wav\\Speaker1_digit_2_11.wav\n",
      "\tSpeaker & Digit detected as -  Speaker1_digit_2\n",
      "Speaker1_digit_2\\wav\\Speaker1_digit_2_12.wav\n",
      "\tSpeaker & Digit detected as -  Speaker1_digit_2\n",
      "Speaker1_digit_3\\wav\\Speaker1_digit_3_10.wav\n",
      "\tSpeaker & Digit detected as -  Speaker1_digit_3\n",
      "Speaker1_digit_3\\wav\\Speaker1_digit_3_11.wav\n",
      "\tSpeaker & Digit detected as -  Speaker1_digit_3\n",
      "Speaker1_digit_3\\wav\\Speaker1_digit_3_12.wav\n",
      "\tSpeaker & Digit detected as -  Speaker1_digit_3\n",
      "Speaker2_digit_1\\wav\\Speaker2_digit_1_10.wav\n",
      "\tSpeaker & Digit detected as -  Speaker2_digit_1\n",
      "Speaker2_digit_1\\wav\\Speaker2_digit_1_11.wav\n",
      "\tSpeaker & Digit detected as -  Speaker2_digit_1\n",
      "Speaker2_digit_1\\wav\\Speaker2_digit_1_12.wav\n",
      "\tSpeaker & Digit detected as -  Speaker2_digit_1\n",
      "Speaker2_digit_2\\wav\\Speaker2_digit_2_10.wav\n",
      "\tSpeaker & Digit detected as -  Speaker2_digit_2\n",
      "Speaker2_digit_2\\wav\\Speaker2_digit_2_11.wav\n",
      "\tSpeaker & Digit detected as -  Speaker2_digit_2\n",
      "Speaker2_digit_2\\wav\\Speaker2_digit_2_12.wav\n",
      "\tSpeaker & Digit detected as -  Speaker2_digit_2\n",
      "Speaker2_digit_3\\wav\\Speaker2_digit_3_10.wav\n",
      "\tSpeaker & Digit detected as -  Speaker2_digit_3\n",
      "Speaker2_digit_3\\wav\\Speaker2_digit_3_11.wav\n",
      "\tSpeaker & Digit detected as -  Speaker2_digit_2\n",
      "Speaker2_digit_3\\wav\\Speaker2_digit_3_12.wav\n",
      "\tSpeaker & Digit detected as -  Speaker2_digit_3\n",
      "Speaker3_digit_1\\wav\\Speaker3_digit_1_10.wav\n",
      "\tSpeaker & Digit detected as -  Speaker3_digit_1\n",
      "Speaker3_digit_1\\wav\\Speaker3_digit_1_11.wav\n",
      "\tSpeaker & Digit detected as -  Speaker3_digit_1\n",
      "Speaker3_digit_1\\wav\\Speaker3_digit_1_12.wav\n",
      "\tSpeaker & Digit detected as -  Speaker3_digit_1\n",
      "Speaker3_digit_2\\wav\\Speaker3_digit_2_10.wav\n",
      "\tSpeaker & Digit detected as -  Speaker3_digit_2\n",
      "Speaker3_digit_2\\wav\\Speaker3_digit_2_11.wav\n",
      "\tSpeaker & Digit detected as -  Speaker3_digit_2\n",
      "Speaker3_digit_2\\wav\\Speaker3_digit_2_12.wav\n",
      "\tSpeaker & Digit detected as -  Speaker3_digit_2\n",
      "Speaker3_digit_3\\wav\\Speaker3_digit_3_10.wav\n",
      "\tSpeaker & Digit detected as -  Speaker3_digit_3\n",
      "Speaker3_digit_3\\wav\\Speaker3_digit_3_11.wav\n",
      "\tSpeaker & Digit detected as -  Speaker3_digit_3\n",
      "Speaker3_digit_3\\wav\\Speaker3_digit_3_12.wav\n",
      "\tSpeaker & Digit detected as -  Speaker3_digit_3\n"
     ]
    }
   ],
   "source": [
    "# Read the test directory and get the list of test audio files \n",
    "path_predicted_dict = dict()\n",
    "\n",
    "for path in file_paths:   \n",
    "    \n",
    "    path = path.strip()   \n",
    "    print(path)\n",
    "    sr,audio = read(source + path)\n",
    "    vector   = extract_features(audio,sr)\n",
    "    \n",
    "    log_likelihood = np.zeros(len(models)) \n",
    "    \n",
    "    for i in range(len(models)):\n",
    "        gmm    = models[i]  #checking with each model one by one\n",
    "        scores = np.array(gmm.score(vector))\n",
    "        log_likelihood[i] = scores.sum()\n",
    "    \n",
    "    winner = np.argmax(log_likelihood)\n",
    "    print(\"\\tSpeaker & Digit detected as - \", speakers_digit[winner])\n",
    "    path_predicted_dict[path] = speakers_digit[winner]"
   ]
  },
  {
   "cell_type": "code",
   "execution_count": 19,
   "metadata": {},
   "outputs": [
    {
     "name": "stdout",
     "output_type": "stream",
     "text": [
      "Accuracy on Test Dataset =  96.29629629629629 %\n"
     ]
    }
   ],
   "source": [
    "correct_pred = 0\n",
    "incorrect_pred = 0\n",
    "for i in path_predicted_dict.keys():\n",
    "    if i.split(\"\\\\\")[0] == path_predicted_dict[i]:\n",
    "        correct_pred += 1\n",
    "    else:\n",
    "        incorrect_pred += 1\n",
    "\n",
    "print(\"Accuracy on Test Dataset = \", correct_pred*100/(correct_pred + incorrect_pred), \"%\")"
   ]
  },
  {
   "cell_type": "markdown",
   "metadata": {},
   "source": [
    "<b> Hence, it can be seen how this model effectively predicts the speaker and the corresponding digit he said for the pass code. In acual application this passcode will be a four digit number and the model will also train itself to be more robust with more usage. </b>"
   ]
  },
  {
   "cell_type": "code",
   "execution_count": null,
   "metadata": {},
   "outputs": [],
   "source": []
  }
 ],
 "metadata": {
  "kernelspec": {
   "display_name": "Python 3",
   "language": "python",
   "name": "python3"
  },
  "language_info": {
   "codemirror_mode": {
    "name": "ipython",
    "version": 3
   },
   "file_extension": ".py",
   "mimetype": "text/x-python",
   "name": "python",
   "nbconvert_exporter": "python",
   "pygments_lexer": "ipython3",
   "version": "3.6.3"
  }
 },
 "nbformat": 4,
 "nbformat_minor": 2
}
